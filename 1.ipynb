{
 "cells": [
  {
   "cell_type": "code",
   "execution_count": 5,
   "metadata": {},
   "outputs": [
    {
     "name": "stdout",
     "output_type": "stream",
     "text": [
      "123 [1, 2, 3]\n",
      "datetime.datetime(2020, 1, 1, 0, 0)\n",
      "{'id': 123, 'name': 'John Doe', 'singup_ts': datetime.datetime(2020, 1, 1, 0, 0), 'friends': [1, 2, 3]}\n"
     ]
    }
   ],
   "source": [
    "from pydantic import BaseModel, ValiadteError\n",
    "from datetime import datetime\n",
    "from typing import List, Optional\n",
    "\n",
    "class User(BaseModel):\n",
    "    id: int # 必填字段\n",
    "    name: str = \"John\"  # 有默认值，选填字段\n",
    "    signup_ts: Optional[datetime] = None    \n",
    "    friends: List[int] = [] # 列表中的元素需要是int类型或可以转换为int类型\n",
    "\n",
    "extrnal_data = {\n",
    "    \"id\": 123,\n",
    "    \"name\": \"John Doe\",\n",
    "    \"signup_ts\": \"2020-01-01 00:00\",\n",
    "    \"friends\": [1, 2, '3']\n",
    "}\n",
    "user = User(**extrnal_data)\n",
    "print(user.id, user.friends)\n",
    "print(repr(user.singup_ts))\n",
    "print(user.dict())\n"
   ]
  },
  {
   "cell_type": "code",
   "execution_count": 9,
   "metadata": {},
   "outputs": [
    {
     "name": "stdout",
     "output_type": "stream",
     "text": [
      "[\n",
      "  {\n",
      "    \"loc\": [\n",
      "      \"friends\",\n",
      "      2\n",
      "    ],\n",
      "    \"msg\": \"value is not a valid integer\",\n",
      "    \"type\": \"type_error.integer\"\n",
      "  }\n",
      "]\n"
     ]
    }
   ],
   "source": [
    "from pydantic import ValidationError\n",
    "try:\n",
    "    User(id = 1, name=\"John\", signup_ts=datetime.today, friends=[1, 2, 'a'])\n",
    "except ValidationError as e:\n",
    "    print(e.json())\n"
   ]
  },
  {
   "cell_type": "code",
   "execution_count": 14,
   "metadata": {},
   "outputs": [
    {
     "name": "stdout",
     "output_type": "stream",
     "text": [
      "{'id': 123, 'name': 'John Doe', 'singup_ts': datetime.datetime(2020, 1, 1, 0, 0), 'friends': [1, 2, 3]}\n",
      "{\"id\": 123, \"name\": \"John Doe\", \"singup_ts\": \"2020-01-01T00:00:00\", \"friends\": [1, 2, 3]}\n",
      "id=123 name='John Doe' singup_ts=datetime.datetime(2020, 1, 1, 0, 0) friends=[1, 2, 3]\n",
      "id=123 name='John Doe' singup_ts=datetime.datetime(2020, 1, 1, 0, 0) friends=[1, 2, 3]\n",
      "id=123 name='John Doe' singup_ts=datetime.datetime(2020, 1, 1, 0, 0) friends=[1, 2, 3]\n"
     ]
    }
   ],
   "source": [
    "print(user.dict())\n",
    "print(user.json())\n",
    "print(user.copy())  # 这里是浅复制\n",
    "print(User.parse_obj(extrnal_data))\n",
    "print(User.parse_raw('{\"id\": 123, \"name\": \"John Doe\", \"singup_ts\": \"2020-01-01T00:00:00\", \"friends\": [1, 2, 3]}'))"
   ]
  },
  {
   "cell_type": "code",
   "execution_count": 16,
   "metadata": {},
   "outputs": [
    {
     "name": "stdout",
     "output_type": "stream",
     "text": [
      "{'title': 'User', 'type': 'object', 'properties': {'id': {'title': 'Id', 'type': 'integer'}, 'name': {'title': 'Name', 'default': 'John', 'type': 'string'}, 'singup_ts': {'title': 'Singup Ts', 'type': 'string', 'format': 'date-time'}, 'friends': {'title': 'Friends', 'default': [], 'type': 'array', 'items': {'type': 'integer'}}}, 'required': ['id']}\n",
      "{\"title\": \"User\", \"type\": \"object\", \"properties\": {\"id\": {\"title\": \"Id\", \"type\": \"integer\"}, \"name\": {\"title\": \"Name\", \"default\": \"John\", \"type\": \"string\"}, \"singup_ts\": {\"title\": \"Singup Ts\", \"type\": \"string\", \"format\": \"date-time\"}, \"friends\": {\"title\": \"Friends\", \"default\": [], \"type\": \"array\", \"items\": {\"type\": \"integer\"}}}, \"required\": [\"id\"]}\n"
     ]
    }
   ],
   "source": [
    "print(user.schema())\n",
    "print(user.schema_json())\n",
    "User.construct()    # 不校验数据，直接创建模型类"
   ]
  },
  {
   "cell_type": "code",
   "execution_count": 18,
   "metadata": {},
   "outputs": [
    {
     "name": "stdout",
     "output_type": "stream",
     "text": [
      "dict_keys(['id', 'name', 'singup_ts', 'friends'])\n"
     ]
    }
   ],
   "source": [
    "print(User.__fields__.keys())   # 字段"
   ]
  },
  {
   "cell_type": "markdown",
   "metadata": {},
   "source": [
    "# 递归模型"
   ]
  },
  {
   "cell_type": "code",
   "execution_count": 21,
   "metadata": {},
   "outputs": [],
   "source": [
    "class Sound(BaseModel):\n",
    "    sound: str\n",
    "\n",
    "\n",
    "class Dog(BaseModel):\n",
    "    birthday: date\n",
    "    weight: float = Optional[None]\n",
    "    sound: List[Sound]  # 不同的狗有不同的叫声。递归模型（Recursive Models）就是指一个嵌套一个"
   ]
  },
  {
   "cell_type": "code",
   "execution_count": 28,
   "metadata": {},
   "outputs": [
    {
     "name": "stdout",
     "output_type": "stream",
     "text": [
      "{'birthday': datetime.date(2021, 12, 22), 'sound': [{'sound': 'woof'}, {'sound': 'bark'}, {'sound': 'grrr'}]}\n"
     ]
    }
   ],
   "source": [
    "from datetime import date\n",
    "\n",
    "class Sound(BaseModel):\n",
    "    sound: str\n",
    "\n",
    "class Dog(BaseModel):\n",
    "    birthday: date\n",
    "    weight: float = Optional[None]\n",
    "    sound : List[Sound]     # 递归嵌套，不同的狗有不同的叫声\n",
    "\n",
    "dog = Dog(birthday = date.today(), weight = 6.66, sound = [Sound(sound = 'woof'), Sound(sound = 'bark'), Sound(sound = 'grrr')])\n",
    "print(dog.dict())"
   ]
  },
  {
   "cell_type": "markdown",
   "metadata": {},
   "source": [
    "# ORM模型：从类实例创建符合ORM对象的模型"
   ]
  },
  {
   "cell_type": "code",
   "execution_count": 33,
   "metadata": {},
   "outputs": [
    {
     "name": "stdout",
     "output_type": "stream",
     "text": [
      "id=123 public_key='12345678901230' name='Google' domains=['google.com', 'google.co.jp']\n"
     ]
    }
   ],
   "source": [
    "from sqlalchemy import Column, Integer, String\n",
    "from sqlalchemy.dialects.postgresql import ARRAY\n",
    "from sqlalchemy.ext.declarative import declarative_base\n",
    "from pydantic import constr\n",
    "\n",
    "Base = declarative_base()\n",
    "\n",
    "class CompanyOrm(Base):\n",
    "    __tablename__ = 'companies'\n",
    "    id = Column(Integer, primary_key=True,nullable=False)\n",
    "    public_key = Column(String(20), index = True, nullable=False, unique=True)\n",
    "    name = Column(String(63), unique=True)\n",
    "    domains = Column(ARRAY(String(255)))\n",
    "\n",
    "class CompanyMode(BaseModel):\n",
    "    id: int\n",
    "    public_key: constr(max_length=20)\n",
    "    name: constr(max_length=63)\n",
    "    domains: List[constr(max_length=255)]\n",
    "\n",
    "    class Config:\n",
    "        orm_mode = True\n",
    "\n",
    "co_orm = CompanyOrm(\n",
    "    id = 123,\n",
    "    public_key = '12345678901230',\n",
    "    name = 'Google',\n",
    "    domains = ['google.com', 'google.co.jp']\n",
    ")\n",
    "\n",
    "print(CompanyMode.from_orm(co_orm))"
   ]
  },
  {
   "cell_type": "markdown",
   "metadata": {},
   "source": [
    "# Pydantic支撑的字段类型\n",
    "\n",
    "# 官方文档：https://pydantic-docs.helpmanual.io/usage/types/"
   ]
  }
 ],
 "metadata": {
  "interpreter": {
   "hash": "5fd5d179b353a7924b2269f9ae30affc58451699efad8dcc09c53f37c011c4ba"
  },
  "kernelspec": {
   "display_name": "Python 3.9.1 64-bit ('.venv': venv)",
   "language": "python",
   "name": "python3"
  },
  "language_info": {
   "codemirror_mode": {
    "name": "ipython",
    "version": 3
   },
   "file_extension": ".py",
   "mimetype": "text/x-python",
   "name": "python",
   "nbconvert_exporter": "python",
   "pygments_lexer": "ipython3",
   "version": "3.9.1"
  },
  "orig_nbformat": 4
 },
 "nbformat": 4,
 "nbformat_minor": 2
}
