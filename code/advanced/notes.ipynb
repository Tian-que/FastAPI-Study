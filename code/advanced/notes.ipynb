{
 "cells": [
  {
   "cell_type": "markdown",
   "metadata": {},
   "source": [
    "# 路径操作的高级配置\n",
    "## OpenAPI 的 operationId\n",
    "\n",
    "你可以在路径操作中通过参数 operation_id 设置要使用的 OpenAPI operationId。\n",
    "\n",
    "务必确保每个操作路径的 operation_id 都是唯一的。\n",
    "\n"
   ]
  },
  {
   "cell_type": "code",
   "execution_count": null,
   "metadata": {},
   "outputs": [],
   "source": [
    "from fastapi import FastAPI\n",
    "\n",
    "app = FastAPI()\n",
    "\n",
    "\n",
    "@app.get(\"/items/\", operation_id=\"some_specific_id_you_define\")\n",
    "async def read_items():\n",
    "    return [{\"item_id\": \"Foo\"}]"
   ]
  },
  {
   "cell_type": "markdown",
   "metadata": {},
   "source": [
    "## 使用 路径操作函数 的函数名作为 operationId\n",
    "\n",
    "如果你想用你的 API 的函数名作为 operationId 的名字，你可以遍历一遍 API 的函数名，然后使用他们的 APIRoute.name 重写每个 路径操作 的 operation_id。\n",
    "\n",
    "你应该在添加了所有 路径操作 之后执行此操作。"
   ]
  },
  {
   "cell_type": "code",
   "execution_count": null,
   "metadata": {},
   "outputs": [],
   "source": [
    "from fastapi import FastAPI\n",
    "from fastapi.routing import APIRoute\n",
    "\n",
    "app = FastAPI()\n",
    "\n",
    "\n",
    "@app.get(\"/items/\")\n",
    "async def read_items():\n",
    "    return [{\"item_id\": \"Foo\"}]\n",
    "\n",
    "\n",
    "def use_route_names_as_operation_ids(app: FastAPI) -> None:\n",
    "    \"\"\"\n",
    "    Simplify operation IDs so that generated API clients have simpler function\n",
    "    names.\n",
    "\n",
    "    Should be called only after all routes have been added.\n",
    "    \"\"\"\n",
    "    for route in app.routes:\n",
    "        if isinstance(route, APIRoute):\n",
    "            route.operation_id = route.name  # in this case, 'read_items'\n",
    "\n",
    "\n",
    "use_route_names_as_operation_ids(app)"
   ]
  },
  {
   "cell_type": "markdown",
   "metadata": {},
   "source": [
    "## 从 OpenAPI 中排除\n",
    "\n",
    "使用参数 include_in_schema 并将其设置为 False ，来从生成的 OpenAPI 方案中排除一个 路径操作（这样一来，就从自动化文档系统中排除掉了）。"
   ]
  },
  {
   "cell_type": "code",
   "execution_count": null,
   "metadata": {},
   "outputs": [],
   "source": [
    "from fastapi import FastAPI\n",
    "\n",
    "app = FastAPI()\n",
    "\n",
    "\n",
    "@app.get(\"/items/\", include_in_schema=False)\n",
    "async def read_items():\n",
    "    return [{\"item_id\": \"Foo\"}]"
   ]
  },
  {
   "cell_type": "markdown",
   "metadata": {},
   "source": [
    "## docstring 的高级描述\n",
    "\n",
    "你可以限制 路径操作函数 的 docstring 中用于 OpenAPI 的行数。\n",
    "\n",
    "添加一个 \\f （一个「换页」的转义字符）可以使 FastAPI 在那一位置截断用于 OpenAPI 的输出。\n",
    "\n",
    "剩余部分不会出现在文档中，但是其他工具（比如 Sphinx）可以使用剩余部分。"
   ]
  },
  {
   "cell_type": "code",
   "execution_count": null,
   "metadata": {},
   "outputs": [],
   "source": [
    "from typing import Optional, Set\n",
    "\n",
    "from fastapi import FastAPI\n",
    "from pydantic import BaseModel\n",
    "\n",
    "app = FastAPI()\n",
    "\n",
    "\n",
    "class Item(BaseModel):\n",
    "    name: str\n",
    "    description: Optional[str] = None\n",
    "    price: float\n",
    "    tax: Optional[float] = None\n",
    "    tags: Set[str] = []\n",
    "\n",
    "\n",
    "@app.post(\"/items/\", response_model=Item, summary=\"Create an item\")\n",
    "async def create_item(item: Item):\n",
    "    \"\"\"\n",
    "    Create an item with all the information:\n",
    "\n",
    "    - **name**: each item must have a name\n",
    "    - **description**: a long description\n",
    "    - **price**: required\n",
    "    - **tax**: if the item doesn't have tax, you can omit this\n",
    "    - **tags**: a set of unique tag strings for this item\n",
    "    \\f\n",
    "    :param item: User input.\n",
    "    \"\"\"\n",
    "    return item"
   ]
  },
  {
   "cell_type": "markdown",
   "metadata": {},
   "source": [
    "# 额外的状态码\n",
    "\n",
    "FastAPI 默认使用 JSONResponse 返回一个响应，将你的 路径操作 中的返回内容放到该 JSONResponse 中。\n",
    "\n",
    "FastAPI 会自动使用默认的状态码或者使用你在 路径操作 中设置的状态码。\n",
    "\n",
    "## 额外的状态码\n",
    "如果你想要返回主要状态码之外的状态码，你可以通过直接返回一个 Response 来实现，比如 JSONResponse，然后直接设置额外的状态码。\n",
    "\n",
    "例如，假设你想有一个 路径操作 能够更新条目，并且更新成功时返回 200 「成功」 的 HTTP 状态码。\n",
    "\n",
    "但是你也希望它能够接受新的条目。并且当这些条目不存在时，会自动创建并返回 201 「创建」的 HTTP 状态码。\n",
    "\n",
    "要实现它，导入 JSONResponse，然后在其中直接返回你的内容，并将 status_code 设置为为你要的值。\n",
    "\n"
   ]
  },
  {
   "cell_type": "code",
   "execution_count": null,
   "metadata": {},
   "outputs": [],
   "source": [
    "from typing import Optional\n",
    "\n",
    "from fastapi import Body, FastAPI, status\n",
    "from fastapi.responses import JSONResponse\n",
    "\n",
    "app = FastAPI()\n",
    "\n",
    "items = {\"foo\": {\"name\": \"Fighters\", \"size\": 6}, \"bar\": {\"name\": \"Tenders\", \"size\": 3}}\n",
    "\n",
    "\n",
    "@app.put(\"/items/{item_id}\")\n",
    "async def upsert_item(\n",
    "    item_id: str, name: Optional[str] = Body(None), size: Optional[int] = Body(None)\n",
    "):\n",
    "    if item_id in items:\n",
    "        item = items[item_id]\n",
    "        item[\"name\"] = name\n",
    "        item[\"size\"] = size\n",
    "        return item\n",
    "    else:\n",
    "        item = {\"name\": name, \"size\": size}\n",
    "        items[item_id] = item\n",
    "        return JSONResponse(status_code=status.HTTP_201_CREATED, content=item)"
   ]
  },
  {
   "cell_type": "markdown",
   "metadata": {},
   "source": [
    "当你直接返回一个像上面例子中的 Response 对象时，它会直接返回。\n",
    "\n",
    "FastAPI 不会用模型等对该响应进行序列化。\n",
    "\n",
    "确保其中有你想要的数据，且返回的值为合法的 JSON（如果你使用 JSONResponse 的话）"
   ]
  },
  {
   "cell_type": "markdown",
   "metadata": {},
   "source": [
    "## 在 Response 中使用 jsonable_encoder\n",
    "由于 FastAPI 并未对你返回的 Response 做任何改变，你必须确保你已经准备好响应内容。\n",
    "\n",
    "例如，如果不首先将 Pydantic 模型转换为 dict，并将所有数据类型（如 datetime、UUID 等）转换为兼容 JSON 的类型，则不能将其放入JSONResponse中。\n",
    "\n",
    "对于这些情况，在将数据传递给响应之前，你可以使用 jsonable_encoder 来转换你的数据。"
   ]
  },
  {
   "cell_type": "code",
   "execution_count": null,
   "metadata": {},
   "outputs": [],
   "source": [
    "from datetime import datetime\n",
    "from typing import Optional\n",
    "\n",
    "from fastapi import FastAPI\n",
    "from fastapi.encoders import jsonable_encoder\n",
    "from fastapi.responses import JSONResponse\n",
    "from pydantic import BaseModel\n",
    "\n",
    "\n",
    "class Item(BaseModel):\n",
    "    title: str\n",
    "    timestamp: datetime\n",
    "    description: Optional[str] = None\n",
    "\n",
    "\n",
    "app = FastAPI()\n",
    "\n",
    "\n",
    "@app.put(\"/items/{id}\")\n",
    "def update_item(id: str, item: Item):\n",
    "    json_compatible_item_data = jsonable_encoder(item)\n",
    "    return JSONResponse(content=json_compatible_item_data)"
   ]
  },
  {
   "cell_type": "markdown",
   "metadata": {},
   "source": [
    "# 自定义响应 - HTML，流，文件和其他\n",
    "\n",
    "FastAPI 默认会使用 JSONResponse 返回响应。\n",
    "\n",
    "你可以通过直接返回 Response 来重载它，参见 直接返回响应。\n",
    "\n",
    "但如果你直接返回 Response，返回数据不会自动转换，也不会自动生成文档（例如，在 HTTP 头 Content-Type 中包含特定的「媒体类型」作为生成的 OpenAPI 的一部分）。\n",
    "\n",
    "你还可以在 路径操作装饰器 中声明你想用的 Response。\n",
    "\n",
    "你从 路径操作函数 中返回的内容将被放在该 Response 中。\n",
    "\n",
    "并且如果该 Response 有一个 JSON 媒体类型（application/json），比如使用 JSONResponse 或者 UJSONResponse 的时候，返回的数据将使用你在路径操作装饰器中声明的任何 Pydantic 的 response_model 自动转换（和过滤）。\n",
    "\n",
    "## 使用 ORJSONResponse\n",
    "例如，如果你需要压榨性能，你可以安装并使用 orjson 并将响应设置为 ORJSONResponse。\n",
    "\n",
    "导入你想要使用的 Response 类（子类）然后在 路径操作装饰器 中声明它。"
   ]
  },
  {
   "cell_type": "code",
   "execution_count": null,
   "metadata": {},
   "outputs": [],
   "source": [
    "from fastapi import FastAPI\n",
    "from fastapi.responses import ORJSONResponse\n",
    "\n",
    "app = FastAPI()\n",
    "\n",
    "\n",
    "@app.get(\"/items/\", response_class=ORJSONResponse)\n",
    "async def read_items():\n",
    "    return [{\"item_id\": \"Foo\"}]"
   ]
  },
  {
   "cell_type": "markdown",
   "metadata": {},
   "source": [
    "参数 response_class 也会用来定义响应的「媒体类型」。\n",
    "\n",
    "在这个例子中，HTTP 头的 Content-Type 会被设置成 application/json。\n",
    "\n",
    "并且在 OpenAPI 文档中也会这样记录。\n",
    "\n",
    "ORJSONResponse 目前只在 FastAPI 中可用，而在 Starlette 中不可用。"
   ]
  },
  {
   "cell_type": "markdown",
   "metadata": {},
   "source": [
    "## HTML 响应\n",
    "\n",
    "使用 HTMLResponse 来从 FastAPI 中直接返回一个 HTML 响应。\n",
    "\n",
    "导入 HTMLResponse。\n",
    "将 HTMLResponse 作为你的 路径操作 的 response_class 参数传入。"
   ]
  },
  {
   "cell_type": "code",
   "execution_count": null,
   "metadata": {},
   "outputs": [],
   "source": [
    "from fastapi import FastAPI\n",
    "from fastapi.responses import HTMLResponse\n",
    "\n",
    "app = FastAPI()\n",
    "\n",
    "\n",
    "@app.get(\"/items/\", response_class=HTMLResponse)\n",
    "async def read_items():\n",
    "    return \"\"\"\n",
    "    <html>\n",
    "        <head>\n",
    "            <title>Some HTML in here</title>\n",
    "        </head>\n",
    "        <body>\n",
    "            <h1>Look ma! HTML!</h1>\n",
    "        </body>\n",
    "    </html>\n",
    "    \"\"\""
   ]
  },
  {
   "cell_type": "markdown",
   "metadata": {},
   "source": [
    "### 返回一个 Response"
   ]
  },
  {
   "cell_type": "code",
   "execution_count": null,
   "metadata": {},
   "outputs": [],
   "source": [
    "from fastapi import FastAPI\n",
    "from fastapi.responses import HTMLResponse\n",
    "\n",
    "app = FastAPI()\n",
    "\n",
    "\n",
    "@app.get(\"/items/\")\n",
    "async def read_items():\n",
    "    html_content = \"\"\"\n",
    "    <html>\n",
    "        <head>\n",
    "            <title>Some HTML in here</title>\n",
    "        </head>\n",
    "        <body>\n",
    "            <h1>Look ma! HTML!</h1>\n",
    "        </body>\n",
    "    </html>\n",
    "    \"\"\"\n",
    "    return HTMLResponse(content=html_content, status_code=200)"
   ]
  },
  {
   "cell_type": "markdown",
   "metadata": {},
   "source": [
    "### OpenAPI 中的文档和重载 Response\n",
    "\n",
    "如果你想要在函数内重载响应，但是同时在 OpenAPI 中文档化「媒体类型」，你可以使用 response_class 参数并返回一个 Response 对象。\n",
    "\n",
    "接着 response_class 参数只会被用来文档化 OpenAPI 的 路径操作，你的 Response 用来返回响应。\n",
    "\n",
    "### 直接返回 HTMLResponse"
   ]
  },
  {
   "cell_type": "code",
   "execution_count": null,
   "metadata": {},
   "outputs": [],
   "source": [
    "from fastapi import FastAPI\n",
    "from fastapi.responses import HTMLResponse\n",
    "\n",
    "app = FastAPI()\n",
    "\n",
    "\n",
    "def generate_html_response():\n",
    "    html_content = \"\"\"\n",
    "    <html>\n",
    "        <head>\n",
    "            <title>Some HTML in here</title>\n",
    "        </head>\n",
    "        <body>\n",
    "            <h1>Look ma! HTML!</h1>\n",
    "        </body>\n",
    "    </html>\n",
    "    \"\"\"\n",
    "    return HTMLResponse(content=html_content, status_code=200)\n",
    "\n",
    "\n",
    "@app.get(\"/items/\", response_class=HTMLResponse)\n",
    "async def read_items():\n",
    "    return generate_html_response()"
   ]
  },
  {
   "cell_type": "markdown",
   "metadata": {},
   "source": [
    "在这个例子中，函数 generate_html_response() 已经生成并返回 Response 对象而不是在 str 中返回 HTML。\n",
    "\n",
    "通过返回函数 generate_html_response() 的调用结果，你已经返回一个重载 FastAPI 默认行为的 Response 对象，\n",
    "\n",
    "但如果你在 response_class 中也传入了 HTMLResponse，FastAPI 会知道如何在 OpenAPI 和交互式文档中使用 text/html 将其文档化为 HTML。"
   ]
  },
  {
   "cell_type": "markdown",
   "metadata": {},
   "source": [
    "## 可用响应\n",
    "这里有一些可用的响应。\n",
    "\n",
    "要记得你可以使用 Response 来返回任何其他东西，甚至创建一个自定义的子类。\n",
    "\n",
    "[LOOK THIS](https://fastapi.tiangolo.com/zh/advanced/custom-response)"
   ]
  },
  {
   "cell_type": "markdown",
   "metadata": {},
   "source": [
    "### 对类似文件的对象使用 StreamingResponse\n",
    "\n",
    "如果您有类似文件的对象（例如，由 open() 返回的对象），则可以在 StreamingResponse 中将其返回。\n",
    "\n",
    "包括许多与云存储，视频处理等交互的库。\n"
   ]
  },
  {
   "cell_type": "code",
   "execution_count": null,
   "metadata": {},
   "outputs": [],
   "source": [
    "from fastapi import FastAPI\n",
    "from fastapi.responses import StreamingResponse\n",
    "\n",
    "some_file_path = \"large-video-file.mp4\"\n",
    "app = FastAPI()\n",
    "\n",
    "\n",
    "@app.get(\"/\")\n",
    "def main():\n",
    "    def iterfile():  # (1)\n",
    "        with open(some_file_path, mode=\"rb\") as file_like:  # (2)\n",
    "            yield from file_like  # (3)\n",
    "\n",
    "    return StreamingResponse(iterfile(), media_type=\"video/mp4\")"
   ]
  },
  {
   "cell_type": "markdown",
   "metadata": {},
   "source": [
    "注意在这里，因为我们使用的是不支持 async 和 await 的标准 open()，我们使用普通的 def 声明了路径操作。"
   ]
  }
 ],
 "metadata": {
  "language_info": {
   "name": "python"
  },
  "orig_nbformat": 4
 },
 "nbformat": 4,
 "nbformat_minor": 2
}
