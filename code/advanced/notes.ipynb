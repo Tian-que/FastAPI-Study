{
 "cells": [
  {
   "cell_type": "markdown",
   "metadata": {},
   "source": [
    "# 路径操作的高级配置\n",
    "## OpenAPI 的 operationId\n",
    "\n",
    "你可以在路径操作中通过参数 operation_id 设置要使用的 OpenAPI operationId。\n",
    "\n",
    "务必确保每个操作路径的 operation_id 都是唯一的。\n",
    "\n"
   ]
  },
  {
   "cell_type": "code",
   "execution_count": null,
   "metadata": {},
   "outputs": [],
   "source": [
    "from fastapi import FastAPI\n",
    "\n",
    "app = FastAPI()\n",
    "\n",
    "\n",
    "@app.get(\"/items/\", operation_id=\"some_specific_id_you_define\")\n",
    "async def read_items():\n",
    "    return [{\"item_id\": \"Foo\"}]"
   ]
  },
  {
   "cell_type": "markdown",
   "metadata": {},
   "source": [
    "## 使用 路径操作函数 的函数名作为 operationId\n",
    "\n",
    "如果你想用你的 API 的函数名作为 operationId 的名字，你可以遍历一遍 API 的函数名，然后使用他们的 APIRoute.name 重写每个 路径操作 的 operation_id。\n",
    "\n",
    "你应该在添加了所有 路径操作 之后执行此操作。"
   ]
  },
  {
   "cell_type": "code",
   "execution_count": null,
   "metadata": {},
   "outputs": [],
   "source": [
    "from fastapi import FastAPI\n",
    "from fastapi.routing import APIRoute\n",
    "\n",
    "app = FastAPI()\n",
    "\n",
    "\n",
    "@app.get(\"/items/\")\n",
    "async def read_items():\n",
    "    return [{\"item_id\": \"Foo\"}]\n",
    "\n",
    "\n",
    "def use_route_names_as_operation_ids(app: FastAPI) -> None:\n",
    "    \"\"\"\n",
    "    Simplify operation IDs so that generated API clients have simpler function\n",
    "    names.\n",
    "\n",
    "    Should be called only after all routes have been added.\n",
    "    \"\"\"\n",
    "    for route in app.routes:\n",
    "        if isinstance(route, APIRoute):\n",
    "            route.operation_id = route.name  # in this case, 'read_items'\n",
    "\n",
    "\n",
    "use_route_names_as_operation_ids(app)"
   ]
  },
  {
   "cell_type": "markdown",
   "metadata": {},
   "source": [
    "## 从 OpenAPI 中排除\n",
    "\n",
    "使用参数 include_in_schema 并将其设置为 False ，来从生成的 OpenAPI 方案中排除一个 路径操作（这样一来，就从自动化文档系统中排除掉了）。"
   ]
  },
  {
   "cell_type": "code",
   "execution_count": null,
   "metadata": {},
   "outputs": [],
   "source": [
    "from fastapi import FastAPI\n",
    "\n",
    "app = FastAPI()\n",
    "\n",
    "\n",
    "@app.get(\"/items/\", include_in_schema=False)\n",
    "async def read_items():\n",
    "    return [{\"item_id\": \"Foo\"}]"
   ]
  },
  {
   "cell_type": "markdown",
   "metadata": {},
   "source": [
    "## docstring 的高级描述\n",
    "\n",
    "你可以限制 路径操作函数 的 docstring 中用于 OpenAPI 的行数。\n",
    "\n",
    "添加一个 \\f （一个「换页」的转义字符）可以使 FastAPI 在那一位置截断用于 OpenAPI 的输出。\n",
    "\n",
    "剩余部分不会出现在文档中，但是其他工具（比如 Sphinx）可以使用剩余部分。"
   ]
  },
  {
   "cell_type": "code",
   "execution_count": null,
   "metadata": {},
   "outputs": [],
   "source": [
    "from typing import Optional, Set\n",
    "\n",
    "from fastapi import FastAPI\n",
    "from pydantic import BaseModel\n",
    "\n",
    "app = FastAPI()\n",
    "\n",
    "\n",
    "class Item(BaseModel):\n",
    "    name: str\n",
    "    description: Optional[str] = None\n",
    "    price: float\n",
    "    tax: Optional[float] = None\n",
    "    tags: Set[str] = []\n",
    "\n",
    "\n",
    "@app.post(\"/items/\", response_model=Item, summary=\"Create an item\")\n",
    "async def create_item(item: Item):\n",
    "    \"\"\"\n",
    "    Create an item with all the information:\n",
    "\n",
    "    - **name**: each item must have a name\n",
    "    - **description**: a long description\n",
    "    - **price**: required\n",
    "    - **tax**: if the item doesn't have tax, you can omit this\n",
    "    - **tags**: a set of unique tag strings for this item\n",
    "    \\f\n",
    "    :param item: User input.\n",
    "    \"\"\"\n",
    "    return item"
   ]
  },
  {
   "cell_type": "markdown",
   "metadata": {},
   "source": [
    "# 额外的状态码\n",
    "\n",
    "FastAPI 默认使用 JSONResponse 返回一个响应，将你的 路径操作 中的返回内容放到该 JSONResponse 中。\n",
    "\n",
    "FastAPI 会自动使用默认的状态码或者使用你在 路径操作 中设置的状态码。\n",
    "\n",
    "## 额外的状态码\n",
    "如果你想要返回主要状态码之外的状态码，你可以通过直接返回一个 Response 来实现，比如 JSONResponse，然后直接设置额外的状态码。\n",
    "\n",
    "例如，假设你想有一个 路径操作 能够更新条目，并且更新成功时返回 200 「成功」 的 HTTP 状态码。\n",
    "\n",
    "但是你也希望它能够接受新的条目。并且当这些条目不存在时，会自动创建并返回 201 「创建」的 HTTP 状态码。\n",
    "\n",
    "要实现它，导入 JSONResponse，然后在其中直接返回你的内容，并将 status_code 设置为为你要的值。\n",
    "\n"
   ]
  },
  {
   "cell_type": "code",
   "execution_count": null,
   "metadata": {},
   "outputs": [],
   "source": [
    "from typing import Optional\n",
    "\n",
    "from fastapi import Body, FastAPI, status\n",
    "from fastapi.responses import JSONResponse\n",
    "\n",
    "app = FastAPI()\n",
    "\n",
    "items = {\"foo\": {\"name\": \"Fighters\", \"size\": 6}, \"bar\": {\"name\": \"Tenders\", \"size\": 3}}\n",
    "\n",
    "\n",
    "@app.put(\"/items/{item_id}\")\n",
    "async def upsert_item(\n",
    "    item_id: str, name: Optional[str] = Body(None), size: Optional[int] = Body(None)\n",
    "):\n",
    "    if item_id in items:\n",
    "        item = items[item_id]\n",
    "        item[\"name\"] = name\n",
    "        item[\"size\"] = size\n",
    "        return item\n",
    "    else:\n",
    "        item = {\"name\": name, \"size\": size}\n",
    "        items[item_id] = item\n",
    "        return JSONResponse(status_code=status.HTTP_201_CREATED, content=item)"
   ]
  },
  {
   "cell_type": "markdown",
   "metadata": {},
   "source": [
    "当你直接返回一个像上面例子中的 Response 对象时，它会直接返回。\n",
    "\n",
    "FastAPI 不会用模型等对该响应进行序列化。\n",
    "\n",
    "确保其中有你想要的数据，且返回的值为合法的 JSON（如果你使用 JSONResponse 的话）"
   ]
  },
  {
   "cell_type": "markdown",
   "metadata": {},
   "source": [
    "## 在 Response 中使用 jsonable_encoder\n",
    "由于 FastAPI 并未对你返回的 Response 做任何改变，你必须确保你已经准备好响应内容。\n",
    "\n",
    "例如，如果不首先将 Pydantic 模型转换为 dict，并将所有数据类型（如 datetime、UUID 等）转换为兼容 JSON 的类型，则不能将其放入JSONResponse中。\n",
    "\n",
    "对于这些情况，在将数据传递给响应之前，你可以使用 jsonable_encoder 来转换你的数据。"
   ]
  },
  {
   "cell_type": "code",
   "execution_count": null,
   "metadata": {},
   "outputs": [],
   "source": [
    "from datetime import datetime\n",
    "from typing import Optional\n",
    "\n",
    "from fastapi import FastAPI\n",
    "from fastapi.encoders import jsonable_encoder\n",
    "from fastapi.responses import JSONResponse\n",
    "from pydantic import BaseModel\n",
    "\n",
    "\n",
    "class Item(BaseModel):\n",
    "    title: str\n",
    "    timestamp: datetime\n",
    "    description: Optional[str] = None\n",
    "\n",
    "\n",
    "app = FastAPI()\n",
    "\n",
    "\n",
    "@app.put(\"/items/{id}\")\n",
    "def update_item(id: str, item: Item):\n",
    "    json_compatible_item_data = jsonable_encoder(item)\n",
    "    return JSONResponse(content=json_compatible_item_data)"
   ]
  },
  {
   "cell_type": "markdown",
   "metadata": {},
   "source": [
    "# 自定义响应 - HTML，流，文件和其他\n",
    "\n",
    "FastAPI 默认会使用 JSONResponse 返回响应。\n",
    "\n",
    "你可以通过直接返回 Response 来重载它，参见 直接返回响应。\n",
    "\n",
    "但如果你直接返回 Response，返回数据不会自动转换，也不会自动生成文档（例如，在 HTTP 头 Content-Type 中包含特定的「媒体类型」作为生成的 OpenAPI 的一部分）。\n",
    "\n",
    "你还可以在 路径操作装饰器 中声明你想用的 Response。\n",
    "\n",
    "你从 路径操作函数 中返回的内容将被放在该 Response 中。\n",
    "\n",
    "并且如果该 Response 有一个 JSON 媒体类型（application/json），比如使用 JSONResponse 或者 UJSONResponse 的时候，返回的数据将使用你在路径操作装饰器中声明的任何 Pydantic 的 response_model 自动转换（和过滤）。\n",
    "\n",
    "## 使用 ORJSONResponse\n",
    "例如，如果你需要压榨性能，你可以安装并使用 orjson 并将响应设置为 ORJSONResponse。\n",
    "\n",
    "导入你想要使用的 Response 类（子类）然后在 路径操作装饰器 中声明它。"
   ]
  },
  {
   "cell_type": "code",
   "execution_count": null,
   "metadata": {},
   "outputs": [],
   "source": [
    "from fastapi import FastAPI\n",
    "from fastapi.responses import ORJSONResponse\n",
    "\n",
    "app = FastAPI()\n",
    "\n",
    "\n",
    "@app.get(\"/items/\", response_class=ORJSONResponse)\n",
    "async def read_items():\n",
    "    return [{\"item_id\": \"Foo\"}]"
   ]
  },
  {
   "cell_type": "markdown",
   "metadata": {},
   "source": [
    "参数 response_class 也会用来定义响应的「媒体类型」。\n",
    "\n",
    "在这个例子中，HTTP 头的 Content-Type 会被设置成 application/json。\n",
    "\n",
    "并且在 OpenAPI 文档中也会这样记录。\n",
    "\n",
    "ORJSONResponse 目前只在 FastAPI 中可用，而在 Starlette 中不可用。"
   ]
  },
  {
   "cell_type": "markdown",
   "metadata": {},
   "source": [
    "## HTML 响应\n",
    "\n",
    "使用 HTMLResponse 来从 FastAPI 中直接返回一个 HTML 响应。\n",
    "\n",
    "导入 HTMLResponse。\n",
    "将 HTMLResponse 作为你的 路径操作 的 response_class 参数传入。"
   ]
  },
  {
   "cell_type": "code",
   "execution_count": null,
   "metadata": {},
   "outputs": [],
   "source": [
    "from fastapi import FastAPI\n",
    "from fastapi.responses import HTMLResponse\n",
    "\n",
    "app = FastAPI()\n",
    "\n",
    "\n",
    "@app.get(\"/items/\", response_class=HTMLResponse)\n",
    "async def read_items():\n",
    "    return \"\"\"\n",
    "    <html>\n",
    "        <head>\n",
    "            <title>Some HTML in here</title>\n",
    "        </head>\n",
    "        <body>\n",
    "            <h1>Look ma! HTML!</h1>\n",
    "        </body>\n",
    "    </html>\n",
    "    \"\"\""
   ]
  },
  {
   "cell_type": "markdown",
   "metadata": {},
   "source": [
    "### 返回一个 Response"
   ]
  },
  {
   "cell_type": "code",
   "execution_count": null,
   "metadata": {},
   "outputs": [],
   "source": [
    "from fastapi import FastAPI\n",
    "from fastapi.responses import HTMLResponse\n",
    "\n",
    "app = FastAPI()\n",
    "\n",
    "\n",
    "@app.get(\"/items/\")\n",
    "async def read_items():\n",
    "    html_content = \"\"\"\n",
    "    <html>\n",
    "        <head>\n",
    "            <title>Some HTML in here</title>\n",
    "        </head>\n",
    "        <body>\n",
    "            <h1>Look ma! HTML!</h1>\n",
    "        </body>\n",
    "    </html>\n",
    "    \"\"\"\n",
    "    return HTMLResponse(content=html_content, status_code=200)"
   ]
  },
  {
   "cell_type": "markdown",
   "metadata": {},
   "source": [
    "### OpenAPI 中的文档和重载 Response\n",
    "\n",
    "如果你想要在函数内重载响应，但是同时在 OpenAPI 中文档化「媒体类型」，你可以使用 response_class 参数并返回一个 Response 对象。\n",
    "\n",
    "接着 response_class 参数只会被用来文档化 OpenAPI 的 路径操作，你的 Response 用来返回响应。\n",
    "\n",
    "### 直接返回 HTMLResponse"
   ]
  },
  {
   "cell_type": "code",
   "execution_count": null,
   "metadata": {},
   "outputs": [],
   "source": [
    "from fastapi import FastAPI\n",
    "from fastapi.responses import HTMLResponse\n",
    "\n",
    "app = FastAPI()\n",
    "\n",
    "\n",
    "def generate_html_response():\n",
    "    html_content = \"\"\"\n",
    "    <html>\n",
    "        <head>\n",
    "            <title>Some HTML in here</title>\n",
    "        </head>\n",
    "        <body>\n",
    "            <h1>Look ma! HTML!</h1>\n",
    "        </body>\n",
    "    </html>\n",
    "    \"\"\"\n",
    "    return HTMLResponse(content=html_content, status_code=200)\n",
    "\n",
    "\n",
    "@app.get(\"/items/\", response_class=HTMLResponse)\n",
    "async def read_items():\n",
    "    return generate_html_response()"
   ]
  },
  {
   "cell_type": "markdown",
   "metadata": {},
   "source": [
    "在这个例子中，函数 generate_html_response() 已经生成并返回 Response 对象而不是在 str 中返回 HTML。\n",
    "\n",
    "通过返回函数 generate_html_response() 的调用结果，你已经返回一个重载 FastAPI 默认行为的 Response 对象，\n",
    "\n",
    "但如果你在 response_class 中也传入了 HTMLResponse，FastAPI 会知道如何在 OpenAPI 和交互式文档中使用 text/html 将其文档化为 HTML。"
   ]
  },
  {
   "cell_type": "markdown",
   "metadata": {},
   "source": [
    "## 可用响应\n",
    "这里有一些可用的响应。\n",
    "\n",
    "要记得你可以使用 Response 来返回任何其他东西，甚至创建一个自定义的子类。\n",
    "\n",
    "[LOOK THIS](https://fastapi.tiangolo.com/zh/advanced/custom-response)"
   ]
  },
  {
   "cell_type": "markdown",
   "metadata": {},
   "source": [
    "### 对类似文件的对象使用 StreamingResponse\n",
    "\n",
    "如果您有类似文件的对象（例如，由 open() 返回的对象），则可以在 StreamingResponse 中将其返回。\n",
    "\n",
    "包括许多与云存储，视频处理等交互的库。\n"
   ]
  },
  {
   "cell_type": "code",
   "execution_count": null,
   "metadata": {},
   "outputs": [],
   "source": [
    "from fastapi import FastAPI\n",
    "from fastapi.responses import StreamingResponse\n",
    "\n",
    "some_file_path = \"large-video-file.mp4\"\n",
    "app = FastAPI()\n",
    "\n",
    "\n",
    "@app.get(\"/\")\n",
    "def main():\n",
    "    def iterfile():  # (1)\n",
    "        with open(some_file_path, mode=\"rb\") as file_like:  # (2)\n",
    "            yield from file_like  # (3)\n",
    "\n",
    "    return StreamingResponse(iterfile(), media_type=\"video/mp4\")"
   ]
  },
  {
   "cell_type": "markdown",
   "metadata": {},
   "source": [
    "注意在这里，因为我们使用的是不支持 async 和 await 的标准 open()，我们使用普通的 def 声明了路径操作。"
   ]
  },
  {
   "cell_type": "markdown",
   "metadata": {},
   "source": [
    "## FileResponse\n",
    "\n",
    "异步传输文件作为响应。\n",
    "\n",
    "与其他响应类型相比，接受不同的参数集进行实例化：\n",
    "\n",
    "- path - 要流式传输的文件的文件路径。\n",
    "- headers - 任何自定义响应头，传入字典类型。\n",
    "- media_type - 给出媒体类型的字符串。如果未设置，则文件名或路径将用于推断媒体类型。\n",
    "- filename - 如果给出，它将包含在响应的 Content-Disposition 中。\n",
    "- 文件响应将包含适当的 Content-Length，Last-Modified 和 ETag 的响应头。"
   ]
  },
  {
   "cell_type": "code",
   "execution_count": null,
   "metadata": {},
   "outputs": [],
   "source": [
    "from fastapi import FastAPI\n",
    "from fastapi.responses import FileResponse\n",
    "\n",
    "some_file_path = \"large-video-file.mp4\"\n",
    "app = FastAPI()\n",
    "\n",
    "\n",
    "@app.get(\"/\")\n",
    "async def main():\n",
    "    return FileResponse(some_file_path)"
   ]
  },
  {
   "cell_type": "markdown",
   "metadata": {},
   "source": [
    "# OpenAPI 中的其他响应\n",
    "\n",
    "## 带模型的附加响应\n",
    "\n",
    "您可以将参数 `responses` 传递给路径操作装饰器\n"
   ]
  },
  {
   "cell_type": "code",
   "execution_count": null,
   "metadata": {},
   "outputs": [],
   "source": [
    "from fastapi import FastAPI\n",
    "from fastapi.responses import JSONResponse\n",
    "from pydantic import BaseModel\n",
    "\n",
    "\n",
    "class Item(BaseModel):\n",
    "    id: str\n",
    "    value: str\n",
    "\n",
    "\n",
    "class Message(BaseModel):\n",
    "    message: str\n",
    "\n",
    "\n",
    "app = FastAPI()\n",
    "\n",
    "\n",
    "@app.get(\"/items/{item_id}\", response_model=Item, responses={404: {\"model\": Message}})\n",
    "async def read_item(item_id: str):\n",
    "    if item_id == \"foo\":\n",
    "        return {\"id\": \"foo\", \"value\": \"there goes my hero\"}\n",
    "    else:\n",
    "        return JSONResponse(status_code=404, content={\"message\": \"Item not found\"})\n"
   ]
  },
  {
   "cell_type": "code",
   "execution_count": null,
   "metadata": {},
   "outputs": [],
   "source": [
    "from typing import Optional\n",
    "\n",
    "from fastapi import FastAPI\n",
    "from fastapi.responses import FileResponse\n",
    "from pydantic import BaseModel\n",
    "\n",
    "\n",
    "class Item(BaseModel):\n",
    "    id: str\n",
    "    value: str\n",
    "\n",
    "\n",
    "app = FastAPI()\n",
    "\n",
    "# 直接指定类型\n",
    "@app.get(\n",
    "    \"/items/{item_id}\",\n",
    "    response_model=Item,\n",
    "    responses={\n",
    "        200: {\n",
    "            \"content\": {\"image/png\": {}},\n",
    "            \"description\": \"Return the JSON item or an image.\",\n",
    "        }\n",
    "    },\n",
    ")\n",
    "async def read_item(item_id: str, img: Optional[bool] = None):\n",
    "    if img:\n",
    "        return FileResponse(\"image.png\", media_type=\"image/png\")\n",
    "    else:\n",
    "        return {\"id\": \"foo\", \"value\": \"there goes my hero\"}\n"
   ]
  },
  {
   "cell_type": "markdown",
   "metadata": {},
   "source": [
    "## 组合信息\n",
    "\n",
    "通过 response_model, status_code, 与 responses 参数，可以从多个位置组合响应信息"
   ]
  },
  {
   "cell_type": "code",
   "execution_count": null,
   "metadata": {},
   "outputs": [],
   "source": [
    "from fastapi import FastAPI\n",
    "from fastapi.responses import JSONResponse\n",
    "from pydantic import BaseModel\n",
    "\n",
    "\n",
    "class Item(BaseModel):\n",
    "    id: str\n",
    "    value: str\n",
    "\n",
    "\n",
    "class Message(BaseModel):\n",
    "    message: str\n",
    "\n",
    "\n",
    "app = FastAPI()\n",
    "\n",
    "\n",
    "@app.get(\n",
    "    \"/items/{item_id}\",\n",
    "    response_model=Item,\n",
    "    responses={\n",
    "        404: {\"model\": Message, \"description\": \"The item was not found\"},\n",
    "        200: {\n",
    "            \"description\": \"Item requested by ID\",\n",
    "            \"content\": {\n",
    "                \"application/json\": {\n",
    "                    \"example\": {\"id\": \"bar\", \"value\": \"The bar tenders\"}\n",
    "                }\n",
    "            },\n",
    "        },\n",
    "    },\n",
    ")\n",
    "async def read_item(item_id: str):\n",
    "    if item_id == \"foo\":\n",
    "        return {\"id\": \"foo\", \"value\": \"there goes my hero\"}\n",
    "    else:\n",
    "        return JSONResponse(status_code=404, content={\"message\": \"Item not found\"})"
   ]
  },
  {
   "cell_type": "markdown",
   "metadata": {},
   "source": [
    "## 结合预定义响应和自定义响应\n",
    "\n",
    "对于这种情况，可以先用字典解包构建新的信息字典"
   ]
  },
  {
   "cell_type": "code",
   "execution_count": null,
   "metadata": {},
   "outputs": [],
   "source": [
    "old_dict = {\n",
    "    \"old key\": \"old value\",\n",
    "    \"second old key\": \"second old value\",\n",
    "}\n",
    "new_dict = {**old_dict, \"new key\": \"new value\"}"
   ]
  },
  {
   "cell_type": "code",
   "execution_count": null,
   "metadata": {},
   "outputs": [],
   "source": [
    "from typing import Optional\n",
    "\n",
    "from fastapi import FastAPI\n",
    "from fastapi.responses import FileResponse\n",
    "from pydantic import BaseModel\n",
    "\n",
    "\n",
    "class Item(BaseModel):\n",
    "    id: str\n",
    "    value: str\n",
    "\n",
    "\n",
    "responses = {\n",
    "    404: {\"description\": \"Item not found\"},\n",
    "    302: {\"description\": \"The item was moved\"},\n",
    "    403: {\"description\": \"Not enough privileges\"},\n",
    "}\n",
    "\n",
    "\n",
    "app = FastAPI()\n",
    "\n",
    "\n",
    "@app.get(\n",
    "    \"/items/{item_id}\",\n",
    "    response_model=Item,\n",
    "    responses={**responses, 200: {\"content\": {\"image/png\": {}}}},\n",
    ")\n",
    "async def read_item(item_id: str, img: Optional[bool] = None):\n",
    "    if img:\n",
    "        return FileResponse(\"image.png\", media_type=\"image/png\")\n",
    "    else:\n",
    "        return {\"id\": \"foo\", \"value\": \"there goes my hero\"}"
   ]
  },
  {
   "cell_type": "markdown",
   "metadata": {},
   "source": [
    "# 响应 Cookies\n",
    "\n",
    "## 使用 Response 参数\n",
    "\n",
    "感觉这玩意丢在依赖里面修改响应很好"
   ]
  },
  {
   "cell_type": "code",
   "execution_count": null,
   "metadata": {},
   "outputs": [],
   "source": [
    "from fastapi import FastAPI, Response\n",
    "\n",
    "app = FastAPI()\n",
    "\n",
    "\n",
    "@app.post(\"/cookie-and-object/\")\n",
    "def create_cookie(response: Response):\n",
    "    response.set_cookie(key=\"fakesession\", value=\"fake-cookie-session-value\")\n",
    "    return {\"message\": \"Come to the dark side, we have cookies\"}"
   ]
  },
  {
   "cell_type": "markdown",
   "metadata": {},
   "source": [
    "## 直接返回 Response"
   ]
  },
  {
   "cell_type": "code",
   "execution_count": null,
   "metadata": {},
   "outputs": [],
   "source": [
    "from fastapi import FastAPI\n",
    "from fastapi.responses import JSONResponse\n",
    "\n",
    "app = FastAPI()\n",
    "\n",
    "\n",
    "@app.post(\"/cookie/\")\n",
    "def create_cookie():\n",
    "    content = {\"message\": \"Come to the dark side, we have cookies\"}\n",
    "    response = JSONResponse(content=content)\n",
    "    response.set_cookie(key=\"fakesession\", value=\"fake-cookie-session-value\")\n",
    "    return response"
   ]
  },
  {
   "cell_type": "markdown",
   "metadata": {},
   "source": [
    "# 响应 Headers\n",
    "\n",
    "## 使用 Response 参数"
   ]
  },
  {
   "cell_type": "code",
   "execution_count": null,
   "metadata": {},
   "outputs": [],
   "source": [
    "from fastapi import FastAPI, Response\n",
    "\n",
    "app = FastAPI()\n",
    "\n",
    "\n",
    "@app.get(\"/headers-and-object/\")\n",
    "def get_headers(response: Response):\n",
    "    response.headers[\"X-Cat-Dog\"] = \"alone in the world\"\n",
    "    return {\"message\": \"Hello World\"}"
   ]
  },
  {
   "cell_type": "markdown",
   "metadata": {},
   "source": [
    "## 直接返回 Response"
   ]
  },
  {
   "cell_type": "code",
   "execution_count": null,
   "metadata": {},
   "outputs": [],
   "source": [
    "from fastapi import FastAPI\n",
    "from fastapi.responses import JSONResponse\n",
    "\n",
    "app = FastAPI()\n",
    "\n",
    "\n",
    "@app.get(\"/headers/\")\n",
    "def get_headers():\n",
    "    content = {\"message\": \"Hello World\"}\n",
    "    headers = {\"X-Cat-Dog\": \"alone in the world\", \"Content-Language\": \"en-US\"}\n",
    "    return JSONResponse(content=content, headers=headers)"
   ]
  },
  {
   "cell_type": "markdown",
   "metadata": {},
   "source": [
    "# 更改响应的状态码"
   ]
  },
  {
   "cell_type": "code",
   "execution_count": null,
   "metadata": {},
   "outputs": [],
   "source": [
    "from fastapi import FastAPI, Response, status\n",
    "\n",
    "app = FastAPI()\n",
    "\n",
    "tasks = {\"foo\": \"Listen to the Bar Fighters\"}\n",
    "\n",
    "\n",
    "@app.put(\"/get-or-create-task/{task_id}\", status_code=200)\n",
    "def get_or_create_task(task_id: str, response: Response):\n",
    "    if task_id not in tasks:\n",
    "        tasks[task_id] = \"This didn't exist before\"\n",
    "        response.status_code = status.HTTP_201_CREATED\n",
    "    return tasks[task_id]\n",
    "\n"
   ]
  },
  {
   "cell_type": "markdown",
   "metadata": {},
   "source": [
    "# 进阶依赖\n",
    "\n",
    "## 参数化依赖"
   ]
  },
  {
   "cell_type": "code",
   "execution_count": null,
   "metadata": {},
   "outputs": [],
   "source": [
    "from fastapi import Depends, FastAPI\n",
    "\n",
    "app = FastAPI()\n",
    "\n",
    "\n",
    "class FixedContentQueryChecker:\n",
    "    def __init__(self, fixed_content: str):\n",
    "        self.fixed_content = fixed_content\n",
    "\n",
    "    def __call__(self, q: str = \"\"):\n",
    "        if q:\n",
    "            return self.fixed_content in q\n",
    "        return False\n",
    "\n",
    "\n",
    "checker = FixedContentQueryChecker(\"bar\")\n",
    "\n",
    "\n",
    "@app.get(\"/query-checker/\")\n",
    "async def read_query_check(fixed_content_included: bool = Depends(checker)):\n",
    "    return {\"fixed_content_in_query\": fixed_content_included}"
   ]
  },
  {
   "cell_type": "markdown",
   "metadata": {},
   "source": [
    "# 进阶安全性\n",
    "\n",
    "## OAuth2 范围\n",
    "\n",
    "OAuth2 定义 \"范围\" 是一个由空格分割的字符串列表\n",
    "\n",
    "这些范围代表着权限，举个例子：\n",
    "- users:read or users:write\n",
    "- instagram_basic \n",
    "\n",
    "## 全局视图\n",
    "\n",
    "看看我们对于之前 Oauth2 与 jwt 认证的代码修改\n"
   ]
  },
  {
   "cell_type": "code",
   "execution_count": null,
   "metadata": {},
   "outputs": [],
   "source": [
    "from datetime import datetime, timedelta\n",
    "from typing import List, Optional\n",
    "\n",
    "from fastapi import Depends, FastAPI, HTTPException, Security, status\n",
    "from fastapi.security import (\n",
    "    OAuth2PasswordBearer,\n",
    "    OAuth2PasswordRequestForm,\n",
    "    SecurityScopes,\n",
    ")\n",
    "from jose import JWTError, jwt\n",
    "from passlib.context import CryptContext\n",
    "from pydantic import BaseModel, ValidationError\n",
    "\n",
    "# to get a string like this run:\n",
    "# openssl rand -hex 32\n",
    "SECRET_KEY = \"09d25e094faa6ca2556c818166b7a9563b93f7099f6f0f4caa6cf63b88e8d3e7\"\n",
    "ALGORITHM = \"HS256\"\n",
    "ACCESS_TOKEN_EXPIRE_MINUTES = 30\n",
    "\n",
    "\n",
    "fake_users_db = {\n",
    "    \"johndoe\": {\n",
    "        \"username\": \"johndoe\",\n",
    "        \"full_name\": \"John Doe\",\n",
    "        \"email\": \"johndoe@example.com\",\n",
    "        \"hashed_password\": \"$2b$12$EixZaYVK1fsbw1ZfbX3OXePaWxn96p36WQoeG6Lruj3vjPGga31lW\",\n",
    "        \"disabled\": False,\n",
    "    },\n",
    "    \"alice\": {\n",
    "        \"username\": \"alice\",\n",
    "        \"full_name\": \"Alice Chains\",\n",
    "        \"email\": \"alicechains@example.com\",\n",
    "        \"hashed_password\": \"$2b$12$gSvqqUPvlXP2tfVFaWK1Be7DlH.PKZbv5H8KnzzVgXXbVxpva.pFm\",\n",
    "        \"disabled\": True,\n",
    "    },\n",
    "}\n",
    "\n",
    "\n",
    "class Token(BaseModel):\n",
    "    access_token: str\n",
    "    token_type: str\n",
    "\n",
    "\n",
    "class TokenData(BaseModel):\n",
    "    username: Optional[str] = None\n",
    "    scopes: List[str] = []\n",
    "\n",
    "\n",
    "class User(BaseModel):\n",
    "    username: str\n",
    "    email: Optional[str] = None\n",
    "    full_name: Optional[str] = None\n",
    "    disabled: Optional[bool] = None\n",
    "\n",
    "\n",
    "class UserInDB(User):\n",
    "    hashed_password: str\n",
    "\n",
    "\n",
    "pwd_context = CryptContext(schemes=[\"bcrypt\"], deprecated=\"auto\")\n",
    "\n",
    "# 我们声明了2个 Oauth2 范围：me 和 items\n",
    "oauth2_scheme = OAuth2PasswordBearer(\n",
    "    tokenUrl=\"token\",\n",
    "    scopes={\"me\": \"Read information about the current user.\", \"items\": \"Read items.\"},\n",
    ")\n",
    "\n",
    "app = FastAPI()\n",
    "\n",
    "\n",
    "def verify_password(plain_password, hashed_password):\n",
    "    return pwd_context.verify(plain_password, hashed_password)\n",
    "\n",
    "\n",
    "def get_password_hash(password):\n",
    "    return pwd_context.hash(password)\n",
    "\n",
    "\n",
    "def get_user(db, username: str):\n",
    "    if username in db:\n",
    "        user_dict = db[username]\n",
    "        return UserInDB(**user_dict)\n",
    "\n",
    "\n",
    "def authenticate_user(fake_db, username: str, password: str):\n",
    "    user = get_user(fake_db, username)\n",
    "    if not user:\n",
    "        return False\n",
    "    if not verify_password(password, user.hashed_password):\n",
    "        return False\n",
    "    return user\n",
    "\n",
    "\n",
    "def create_access_token(data: dict, expires_delta: Optional[timedelta] = None):\n",
    "    to_encode = data.copy()\n",
    "    if expires_delta:\n",
    "        expire = datetime.utcnow() + expires_delta\n",
    "    else:\n",
    "        expire = datetime.utcnow() + timedelta(minutes=15)\n",
    "    to_encode.update({\"exp\": expire})\n",
    "    encoded_jwt = jwt.encode(to_encode, SECRET_KEY, algorithm=ALGORITHM)\n",
    "    return encoded_jwt\n",
    "\n",
    "\n",
    "async def get_current_user(\n",
    "    security_scopes: SecurityScopes, token: str = Depends(oauth2_scheme)\n",
    "):\n",
    "    if security_scopes.scopes:\n",
    "        authenticate_value = f'Bearer scope=\"{security_scopes.scope_str}\"'\n",
    "    else:\n",
    "        authenticate_value = f\"Bearer\"\n",
    "    credentials_exception = HTTPException(\n",
    "        status_code=status.HTTP_401_UNAUTHORIZED,\n",
    "        detail=\"Could not validate credentials\",\n",
    "        headers={\"WWW-Authenticate\": authenticate_value},\n",
    "    )\n",
    "    try:\n",
    "        payload = jwt.decode(token, SECRET_KEY, algorithms=[ALGORITHM])\n",
    "        username: str = payload.get(\"sub\")\n",
    "        if username is None:\n",
    "            raise credentials_exception\n",
    "        token_scopes = payload.get(\"scopes\", [])\n",
    "        token_data = TokenData(scopes=token_scopes, username=username)\n",
    "    except (JWTError, ValidationError):\n",
    "        raise credentials_exception\n",
    "    user = get_user(fake_users_db, username=token_data.username)\n",
    "    if user is None:\n",
    "        raise credentials_exception\n",
    "    for scope in security_scopes.scopes:\n",
    "        if scope not in token_data.scopes:\n",
    "            raise HTTPException(\n",
    "                status_code=status.HTTP_401_UNAUTHORIZED,\n",
    "                detail=\"Not enough permissions\",\n",
    "                headers={\"WWW-Authenticate\": authenticate_value},\n",
    "            )\n",
    "    return user\n",
    "\n",
    "# 使用 Security 模块来实现认证，它可以像依赖那样使用\n",
    "async def get_current_active_user(\n",
    "    current_user: User = Security(get_current_user, scopes=[\"me\"])\n",
    "):\n",
    "    if current_user.disabled:\n",
    "        raise HTTPException(status_code=400, detail=\"Inactive user\")\n",
    "    return current_user\n",
    "\n",
    "\n",
    "@app.post(\"/token\", response_model=Token)\n",
    "async def login_for_access_token(form_data: OAuth2PasswordRequestForm = Depends()):\n",
    "    user = authenticate_user(fake_users_db, form_data.username, form_data.password)\n",
    "    if not user:\n",
    "        raise HTTPException(status_code=400, detail=\"Incorrect username or password\")\n",
    "    access_token_expires = timedelta(minutes=ACCESS_TOKEN_EXPIRE_MINUTES)\n",
    "    access_token = create_access_token(\n",
    "        # 使用包含 scopes 的JWT返回\n",
    "        data={\"sub\": user.username, \"scopes\": form_data.scopes},\n",
    "        expires_delta=access_token_expires,\n",
    "    )\n",
    "    return {\"access_token\": access_token, \"token_type\": \"bearer\"}\n",
    "\n",
    "\n",
    "@app.get(\"/users/me/\", response_model=User)\n",
    "async def read_users_me(current_user: User = Depends(get_current_active_user)):\n",
    "    return current_user\n",
    "\n",
    "# 使用 Security 进行安全认证\n",
    "@app.get(\"/users/me/items/\")\n",
    "async def read_own_items(\n",
    "    current_user: User = Security(get_current_active_user, scopes=[\"items\"])\n",
    "):\n",
    "    return [{\"item_id\": \"Foo\", \"owner\": current_user.username}]\n",
    "\n",
    "\n",
    "@app.get(\"/status/\")\n",
    "async def read_system_status(current_user: User = Depends(get_current_user)):\n",
    "    return {\"status\": \"ok\"}"
   ]
  },
  {
   "cell_type": "markdown",
   "metadata": {},
   "source": [
    "# HTTP 基本身份验证\n",
    "\n",
    "## 简单的 HTTP 基本身份验证\n",
    "\n",
    "这告诉浏览器显示用户名和密码的集成提示。\n",
    "\n",
    "然后，当您键入该用户名和密码时，浏览器会自动将它们发送到headers中\n",
    "\n",
    "当您第一次尝试打开 URL（或单击文档中的“执行”按钮）时，浏览器会询问您的用户名和密码"
   ]
  },
  {
   "cell_type": "code",
   "execution_count": null,
   "metadata": {},
   "outputs": [],
   "source": [
    "from fastapi import Depends, FastAPI\n",
    "from fastapi.security import HTTPBasic, HTTPBasicCredentials\n",
    "\n",
    "app = FastAPI()\n",
    "\n",
    "security = HTTPBasic()\n",
    "\n",
    "\n",
    "@app.get(\"/users/me\")\n",
    "def read_current_user(credentials: HTTPBasicCredentials = Depends(security)):\n",
    "    return {\"username\": credentials.username, \"password\": credentials.password}"
   ]
  },
  {
   "cell_type": "markdown",
   "metadata": {},
   "source": [
    "## 检查用户名"
   ]
  },
  {
   "cell_type": "code",
   "execution_count": null,
   "metadata": {},
   "outputs": [],
   "source": [
    "import secrets\n",
    "\n",
    "from fastapi import Depends, FastAPI, HTTPException, status\n",
    "from fastapi.security import HTTPBasic, HTTPBasicCredentials\n",
    "\n",
    "app = FastAPI()\n",
    "\n",
    "security = HTTPBasic()\n",
    "\n",
    "\n",
    "def get_current_username(credentials: HTTPBasicCredentials = Depends(security)):\n",
    "    correct_username = secrets.compare_digest(credentials.username, \"stanleyjobson\")\n",
    "    correct_password = secrets.compare_digest(credentials.password, \"swordfish\")\n",
    "    if not (correct_username and correct_password):\n",
    "        raise HTTPException(\n",
    "            status_code=status.HTTP_401_UNAUTHORIZED,\n",
    "            detail=\"Incorrect email or password\",\n",
    "            headers={\"WWW-Authenticate\": \"Basic\"},\n",
    "        )\n",
    "    return credentials.username\n",
    "\n",
    "\n",
    "@app.get(\"/users/me\")\n",
    "def read_current_user(username: str = Depends(get_current_username)):\n",
    "    return {\"username\": username}"
   ]
  },
  {
   "cell_type": "markdown",
   "metadata": {},
   "source": [
    "通过使用 secrets.compare_digest() 它将可以安全地抵御一种称为“定时攻击”的攻击。\n",
    "\n",
    "## 返回错误信息"
   ]
  },
  {
   "cell_type": "code",
   "execution_count": null,
   "metadata": {},
   "outputs": [],
   "source": [
    "import secrets\n",
    "\n",
    "from fastapi import Depends, FastAPI, HTTPException, status\n",
    "from fastapi.security import HTTPBasic, HTTPBasicCredentials\n",
    "\n",
    "app = FastAPI()\n",
    "\n",
    "security = HTTPBasic()\n",
    "\n",
    "\n",
    "def get_current_username(credentials: HTTPBasicCredentials = Depends(security)):\n",
    "    correct_username = secrets.compare_digest(credentials.username, \"stanleyjobson\")\n",
    "    correct_password = secrets.compare_digest(credentials.password, \"swordfish\")\n",
    "    if not (correct_username and correct_password):\n",
    "        raise HTTPException(\n",
    "            status_code=status.HTTP_401_UNAUTHORIZED,\n",
    "            detail=\"Incorrect email or password\",\n",
    "            headers={\"WWW-Authenticate\": \"Basic\"},\n",
    "        )\n",
    "    return credentials.username\n",
    "\n",
    "\n",
    "@app.get(\"/users/me\")\n",
    "def read_current_user(username: str = Depends(get_current_username)):\n",
    "    return {\"username\": username}"
   ]
  },
  {
   "cell_type": "markdown",
   "metadata": {},
   "source": [
    "# 直接使用 Request 对象\n",
    "\n",
    "这将意味着 FastAPI 不会对其做任何验证\n",
    "\n",
    "但是在某些特定情况下，获取 Request 对象很有用。"
   ]
  },
  {
   "cell_type": "code",
   "execution_count": null,
   "metadata": {},
   "outputs": [],
   "source": [
    "from fastapi import FastAPI, Request\n",
    "\n",
    "app = FastAPI()\n",
    "\n",
    "\n",
    "@app.get(\"/items/{item_id}\")\n",
    "def read_root(item_id: str, request: Request):\n",
    "    client_host = request.client.host\n",
    "    return {\"client_host\": client_host, \"item_id\": item_id}"
   ]
  },
  {
   "cell_type": "markdown",
   "metadata": {},
   "source": [
    "# 使用数据类 dataclass\n",
    "\n",
    "它支持相同的：\n",
    "\n",
    "- 数据验证\n",
    "- 数据序列化\n",
    "- 数据文档"
   ]
  },
  {
   "cell_type": "code",
   "execution_count": null,
   "metadata": {},
   "outputs": [],
   "source": [
    "from dataclasses import dataclass\n",
    "from typing import Optional\n",
    "\n",
    "from fastapi import FastAPI\n",
    "\n",
    "\n",
    "@dataclass\n",
    "class Item:\n",
    "    name: str\n",
    "    price: float\n",
    "    description: Optional[str] = None\n",
    "    tax: Optional[float] = None\n",
    "\n",
    "\n",
    "app = FastAPI()\n",
    "\n",
    "\n",
    "@app.post(\"/items/\")\n",
    "async def create_item(item: Item):\n",
    "    return item"
   ]
  },
  {
   "cell_type": "markdown",
   "metadata": {},
   "source": [
    "也可以将数据类提交给 response_model 参数\n",
    "\n",
    "数据类将自动转换为 Pydantic 数据类"
   ]
  },
  {
   "cell_type": "code",
   "execution_count": null,
   "metadata": {},
   "outputs": [],
   "source": [
    "from dataclasses import dataclass, field\n",
    "from typing import List, Optional\n",
    "\n",
    "from fastapi import FastAPI\n",
    "\n",
    "\n",
    "@dataclass\n",
    "class Item:\n",
    "    name: str\n",
    "    price: float\n",
    "    tags: List[str] = field(default_factory=list)\n",
    "    description: Optional[str] = None\n",
    "    tax: Optional[float] = None\n",
    "\n",
    "\n",
    "app = FastAPI()\n",
    "\n",
    "\n",
    "@app.get(\"/items/next\", response_model=Item)\n",
    "async def read_next_item():\n",
    "    return {\n",
    "        \"name\": \"Island In The Moon\",\n",
    "        \"price\": 12.99,\n",
    "        \"description\": \"A place to be be playin' and havin' fun\",\n",
    "        \"tags\": [\"breater\"],\n",
    "    }"
   ]
  },
  {
   "cell_type": "markdown",
   "metadata": {},
   "source": [
    "# 中间件进阶\n",
    "\n",
    "## 添加 ASGI 中间件\n",
    "\n"
   ]
  },
  {
   "cell_type": "code",
   "execution_count": null,
   "metadata": {},
   "outputs": [],
   "source": [
    "from fastapi import FastAPI\n",
    "from unicorn import UnicornMiddleware\n",
    "\n",
    "app = FastAPI()\n",
    "\n",
    "app.add_middleware(UnicornMiddleware, some_config=\"rainbow\")"
   ]
  },
  {
   "cell_type": "markdown",
   "metadata": {},
   "source": [
    "## 集成中间件\n",
    "\n",
    "FastAPI 包含几个用于常见用例的中间件，我们接下来会看到如何使用它们\n",
    "\n"
   ]
  },
  {
   "cell_type": "markdown",
   "metadata": {},
   "source": [
    "### HTTPSRedirectMiddleware\n",
    "\n",
    "强制所有传入请求必须是 https 或 wss。\n",
    "\n",
    "任何对 http 或 ws 的传入请求都将被重定向到安全方案。"
   ]
  },
  {
   "cell_type": "code",
   "execution_count": null,
   "metadata": {},
   "outputs": [],
   "source": [
    "from fastapi import FastAPI\n",
    "from fastapi.middleware.httpsredirect import HTTPSRedirectMiddleware\n",
    "\n",
    "app = FastAPI()\n",
    "\n",
    "app.add_middleware(HTTPSRedirectMiddleware)\n",
    "\n",
    "\n",
    "@app.get(\"/\")\n",
    "async def main():\n",
    "    return {\"message\": \"Hello World\"}"
   ]
  },
  {
   "cell_type": "markdown",
   "metadata": {},
   "source": [
    "### TrustedHostMiddleware\n",
    "\n",
    "强制所有传入请求都具有正确设置的 Host 标头，以防止 HTTP Host Header 攻击。"
   ]
  },
  {
   "cell_type": "code",
   "execution_count": null,
   "metadata": {},
   "outputs": [],
   "source": [
    "from fastapi import FastAPI\n",
    "from fastapi.middleware.trustedhost import TrustedHostMiddleware\n",
    "\n",
    "app = FastAPI()\n",
    "\n",
    "app.add_middleware(\n",
    "    TrustedHostMiddleware, allowed_hosts=[\"example.com\", \"*.example.com\"]\n",
    ")\n",
    "\n",
    "\n",
    "@app.get(\"/\")\n",
    "async def main():\n",
    "    return {\"message\": \"Hello World\"}"
   ]
  },
  {
   "cell_type": "markdown",
   "metadata": {},
   "source": [
    "### GZipMiddleware\n",
    "\n",
    "处理任何在 Accept-Encoding 标头中包含“gzip”的请求的 GZip 响应。\n",
    "\n",
    "中间件将处理标准响应和流响应。"
   ]
  },
  {
   "cell_type": "code",
   "execution_count": null,
   "metadata": {},
   "outputs": [],
   "source": [
    "from fastapi import FastAPI\n",
    "from fastapi.middleware.gzip import GZipMiddleware\n",
    "\n",
    "app = FastAPI()\n",
    "\n",
    "app.add_middleware(GZipMiddleware, minimum_size=1000)\n",
    "\n",
    "\n",
    "@app.get(\"/\")\n",
    "async def main():\n",
    "    return \"somebigcontent\""
   ]
  },
  {
   "cell_type": "markdown",
   "metadata": {},
   "source": []
  }
 ],
 "metadata": {
  "language_info": {
   "name": "python"
  },
  "orig_nbformat": 4
 },
 "nbformat": 4,
 "nbformat_minor": 2
}
